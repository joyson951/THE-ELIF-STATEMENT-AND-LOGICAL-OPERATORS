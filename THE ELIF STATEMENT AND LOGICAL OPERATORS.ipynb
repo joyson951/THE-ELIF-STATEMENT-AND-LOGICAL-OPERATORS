{
 "cells": [
  {
   "cell_type": "raw",
   "metadata": {
    "raw_mimetype": "text/x-python"
   },
   "source": [
    "THE ELIF STATEMENT AND LOGICAL OPERATORS"
   ]
  },
  {
   "cell_type": "raw",
   "metadata": {
    "raw_mimetype": "text/x-python"
   },
   "source": [
    "What if we want to specify more IF statements one after another? This is what the ELIF statement is for:"
   ]
  },
  {
   "cell_type": "code",
   "execution_count": 1,
   "metadata": {},
   "outputs": [
    {
     "name": "stdout",
     "output_type": "stream",
     "text": [
      "This is a Steel beam\n"
     ]
    }
   ],
   "source": [
    "beam ={\"Mat\": \"Steel\", \"E\": 210000}\n",
    "\n",
    "if beam[\"Mat\"] == \"Concrete\":\n",
    "    print(\"This is a Concrete beam\")\n",
    "elif beam[\"Mat\"] == \"Steel\":\n",
    "    print(\"This is a Steel beam\")\n",
    "elif beam[\"Mat\"] == \"Wood\":\n",
    "    print(\"This is a Wooden beam\")\n",
    "else:\n",
    "    print(\"I do not recognize the material\")"
   ]
  },
  {
   "cell_type": "code",
   "execution_count": 2,
   "metadata": {},
   "outputs": [
    {
     "name": "stdout",
     "output_type": "stream",
     "text": [
      "This is a Concrete beam\n"
     ]
    }
   ],
   "source": [
    "beam ={\"Mat\": \"Concrete\", \"E\": 250000}\n",
    "\n",
    "if beam[\"Mat\"] == \"Concrete\":\n",
    "    print(\"This is a Concrete beam\")\n",
    "elif beam[\"Mat\"] == \"Steel\":\n",
    "    print(\"This is a Steel beam\")\n",
    "elif beam[\"Mat\"] == \"Wood\":\n",
    "    print(\"This is a Wooden beam\")\n",
    "else:\n",
    "    print(\"I do not recognize the material\")"
   ]
  },
  {
   "cell_type": "code",
   "execution_count": null,
   "metadata": {},
   "outputs": [],
   "source": []
  }
 ],
 "metadata": {
  "kernelspec": {
   "display_name": "Python 3",
   "language": "python",
   "name": "python3"
  },
  "language_info": {
   "codemirror_mode": {
    "name": "ipython",
    "version": 3
   },
   "file_extension": ".py",
   "mimetype": "text/x-python",
   "name": "python",
   "nbconvert_exporter": "python",
   "pygments_lexer": "ipython3",
   "version": "3.8.5"
  }
 },
 "nbformat": 4,
 "nbformat_minor": 4
}
